{
 "cells": [
  {
   "cell_type": "code",
   "execution_count": null,
   "metadata": {},
   "outputs": [],
   "source": [
    "from IPython.display import clear_output #boradimizi yarattik\n",
    "\n",
    "def display_board(board):\n",
    "    \n",
    "    print(board[7]+'|'+board[8]+'|'+board[9])\n",
    "    print(board[4]+'|'+board[5]+'|'+board[6])\n",
    "    print(board[1]+'|'+board[2]+'|'+board[3])"
   ]
  },
  {
   "cell_type": "code",
   "execution_count": null,
   "metadata": {},
   "outputs": [],
   "source": [
    "test_board = ['#','X','O','X','O','X','O','X','O','X']\n",
    "display_board(test_board)"
   ]
  },
  {
   "cell_type": "code",
   "execution_count": null,
   "metadata": {},
   "outputs": [],
   "source": [
    "def player_input(): # player ne ne olmay iste burdan seceysik\n",
    "    player1=''\n",
    "    player2=''\n",
    "    while not(player1 == 'O' or player1 == 'X'):\n",
    "        print('Player 1: Choose X or O')\n",
    "        player1=input().upper()\n",
    "        if not (player1 =='X' or player1 == 'O'):\n",
    "            print ('Sory! You have to chose between X and O')\n",
    "        else:\n",
    "            if player1=='X':\n",
    "                player2='O'\n",
    "            else:\n",
    "                player2='X'\n",
    "            print('Player1 is:',player1,'Player2 is:',player2)\n",
    "    return (player1,player2)"
   ]
  },
  {
   "cell_type": "code",
   "execution_count": null,
   "metadata": {},
   "outputs": [],
   "source": [
    "player=player_input()"
   ]
  },
  {
   "cell_type": "code",
   "execution_count": null,
   "metadata": {},
   "outputs": [],
   "source": [
    "print(player[0])"
   ]
  },
  {
   "cell_type": "code",
   "execution_count": null,
   "metadata": {},
   "outputs": [],
   "source": [
    "def place_marker(board, marker, position):\n",
    "    # board da cirilen pozisyona markeri yerlestiri\n",
    "    board[position]=marker"
   ]
  },
  {
   "cell_type": "code",
   "execution_count": null,
   "metadata": {},
   "outputs": [],
   "source": [
    "def win_check(board, mark):\n",
    "    \n",
    "    return ((board[1]==mark and board[2]==mark and board[3]==mark)or\n",
    "            (board[4]==mark and board[5]==mark and board[6]==mark)or\n",
    "            (board[7]==mark and board[8]==mark and board[9]==mark)or\n",
    "            (board[1]==mark and board[4]==mark and board[7]==mark)or\n",
    "            (board[2]==mark and board[5]==mark and board[8]==mark)or\n",
    "            (board[3]==mark and board[6]==mark and board[9]==mark)or\n",
    "            (board[1]==mark and board[5]==mark and board[9]==mark)or\n",
    "            (board[3]==mark and board[5]==mark and board[7]==mark))\n",
    "    "
   ]
  },
  {
   "cell_type": "code",
   "execution_count": null,
   "metadata": {},
   "outputs": [],
   "source": [
    "win_check(test_board,'X')"
   ]
  },
  {
   "cell_type": "code",
   "execution_count": null,
   "metadata": {},
   "outputs": [],
   "source": [
    "import random\n",
    "\n",
    "def choose_first(): # random numara 5 ten kucuk ise player1, buyuk ise player 2 baslay\n",
    "    if random.randint(0,10)<5:\n",
    "        return 'Player1'\n",
    "    else:\n",
    "        return 'Player2'"
   ]
  },
  {
   "cell_type": "code",
   "execution_count": null,
   "metadata": {},
   "outputs": [],
   "source": [
    "def space_check(board, position):\n",
    "    \n",
    "    if board[position]==' ':\n",
    "        return True\n",
    "    else:\n",
    "        return False"
   ]
  },
  {
   "cell_type": "code",
   "execution_count": null,
   "metadata": {},
   "outputs": [],
   "source": [
    "def full_board_check(board):\n",
    "    \n",
    "    for i in range(1,10):\n",
    "        if space_check(board,i):\n",
    "            return False\n",
    "    else:\n",
    "        return True"
   ]
  },
  {
   "cell_type": "code",
   "execution_count": null,
   "metadata": {},
   "outputs": [],
   "source": [
    "def player_choice(board):\n",
    "    position=0\n",
    "    while position not in [1,2,3,4,5,6,7,8,9] or not space_check(board,position):\n",
    "        position=int(input('Choose your number for board (1-9)'))\n",
    "        \n",
    "    return position\n",
    "            "
   ]
  },
  {
   "cell_type": "code",
   "execution_count": null,
   "metadata": {},
   "outputs": [],
   "source": [
    "def replay():\n",
    "    \n",
    "    return input('Do you want to play again (Y or N)').lower().startswith('y')"
   ]
  },
  {
   "cell_type": "code",
   "execution_count": null,
   "metadata": {},
   "outputs": [],
   "source": [
    "print('Welcome to Tic Tac Toe!')\n",
    "\n",
    "while True:\n",
    "    bboard=[' ']*10\n",
    "    player1,player2=player_input()\n",
    "    turn=choose_first()\n",
    "    print(turn,'will start first')\n",
    "    \n",
    "    play_game = input('Ready to play ?  (Y or N)').lower()\n",
    "    \n",
    "    if play_game[0]=='y':\n",
    "        game_online=True\n",
    "    else:\n",
    "        game_online=False\n",
    "        \n",
    "    while game_online:\n",
    "        \n",
    "        if turn=='Player1':\n",
    "            print('Player1')\n",
    "            display(bboard)\n",
    "            position=player_choice(bboard)\n",
    "            place_marker(bboard,player1,position)\n",
    "            \n",
    "            if win_check(bboard,player1):\n",
    "                display(bboard)\n",
    "                print('Congratulations! You have won the game!')\n",
    "                game_online = False\n",
    "            else:\n",
    "                if full_board_check(bboard):\n",
    "                    display(bboard)\n",
    "                    print('The game is a draw!')\n",
    "                    break\n",
    "                else:\n",
    "                    turn='Player2'\n",
    "        else:\n",
    "            print('Player2')\n",
    "            display(bboard)\n",
    "            position=player_choice(bboard)\n",
    "            place_marker(bboard,player2,position)\n",
    "            \n",
    "            if win_check(bboard,player2):\n",
    "                display(bboard)\n",
    "                print('Player2 won the game!')\n",
    "                game_online = False\n",
    "            else:\n",
    "                if full_board_check(bboard):\n",
    "                    display(bboard)\n",
    "                    print('The game is a draw!')\n",
    "                    break\n",
    "                else:\n",
    "                    turn='Player1'\n",
    "        \n",
    "    if not replay():\n",
    "        break\n",
    "    "
   ]
  },
  {
   "cell_type": "code",
   "execution_count": null,
   "metadata": {},
   "outputs": [],
   "source": []
  }
 ],
 "metadata": {
  "kernelspec": {
   "display_name": "Python 3",
   "language": "python",
   "name": "python3"
  },
  "language_info": {
   "codemirror_mode": {
    "name": "ipython",
    "version": 3
   },
   "file_extension": ".py",
   "mimetype": "text/x-python",
   "name": "python",
   "nbconvert_exporter": "python",
   "pygments_lexer": "ipython3",
   "version": "3.8.3"
  }
 },
 "nbformat": 4,
 "nbformat_minor": 4
}
